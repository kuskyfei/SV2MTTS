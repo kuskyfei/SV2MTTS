{
  "nbformat": 4,
  "nbformat_minor": 0,
  "metadata": {
    "colab": {
      "name": "SV2MTTS_half dataset training",
      "provenance": [],
      "collapsed_sections": [],
      "toc_visible": true
    },
    "kernelspec": {
      "name": "python3",
      "display_name": "Python 3"
    },
    "accelerator": "GPU"
  },
  "cells": [
    {
      "cell_type": "markdown",
      "metadata": {
        "id": "wBmtQj9QkLMw",
        "colab_type": "text"
      },
      "source": [
        "#### Download and extract preprocessed dataset from Google Drive"
      ]
    },
    {
      "cell_type": "code",
      "metadata": {
        "id": "b3npJ6CxRQib",
        "colab_type": "code",
        "outputId": "adca5036-46b4-4716-a74e-73a5af1211d4",
        "colab": {
          "base_uri": "https://localhost:8080/",
          "height": 125
        }
      },
      "source": [
        "# Run this cell to mount your Google Drive.\n",
        "from google.colab import drive\n",
        "drive.mount('/content/gdrive')"
      ],
      "execution_count": 0,
      "outputs": [
        {
          "output_type": "stream",
          "text": [
            "Go to this URL in a browser: https://accounts.google.com/o/oauth2/auth?client_id=947318989803-6bn6qk8qdgf4n4g3pfee6491hc0brc4i.apps.googleusercontent.com&redirect_uri=urn%3Aietf%3Awg%3Aoauth%3A2.0%3Aoob&scope=email%20https%3A%2F%2Fwww.googleapis.com%2Fauth%2Fdocs.test%20https%3A%2F%2Fwww.googleapis.com%2Fauth%2Fdrive%20https%3A%2F%2Fwww.googleapis.com%2Fauth%2Fdrive.photos.readonly%20https%3A%2F%2Fwww.googleapis.com%2Fauth%2Fpeopleapi.readonly&response_type=code\n",
            "\n",
            "Enter your authorization code:\n",
            "··········\n",
            "Mounted at /content/gdrive\n"
          ],
          "name": "stdout"
        }
      ]
    },
    {
      "cell_type": "code",
      "metadata": {
        "id": "ncbEb6yf2b6x",
        "colab_type": "code",
        "outputId": "ecc0f8c1-4f83-4831-893d-fdb5ec972504",
        "colab": {
          "base_uri": "https://localhost:8080/",
          "height": 52
        }
      },
      "source": [
        "%%time\n",
        "!cp '/content/gdrive/My Drive/ML/dataset/LibriTTS/LibriNumpied2-train-test-vald.tar' ."
      ],
      "execution_count": 0,
      "outputs": [
        {
          "output_type": "stream",
          "text": [
            "CPU times: user 1.61 s, sys: 250 ms, total: 1.86 s\n",
            "Wall time: 5min 28s\n"
          ],
          "name": "stdout"
        }
      ]
    },
    {
      "cell_type": "code",
      "metadata": {
        "id": "hO50Mf_4ReXi",
        "colab_type": "code",
        "outputId": "87cd359d-4570-4520-f166-f7f67c92bbbc",
        "colab": {
          "base_uri": "https://localhost:8080/",
          "height": 52
        }
      },
      "source": [
        "%%time\n",
        "!tar xf '/content/LibriNumpied2-train-test-vald.tar'"
      ],
      "execution_count": 0,
      "outputs": [
        {
          "output_type": "stream",
          "text": [
            "CPU times: user 1.17 s, sys: 145 ms, total: 1.31 s\n",
            "Wall time: 3min 55s\n"
          ],
          "name": "stdout"
        }
      ]
    },
    {
      "cell_type": "markdown",
      "metadata": {
        "id": "HVwbaIoHl5oV",
        "colab_type": "text"
      },
      "source": [
        "#### Install required dependencies"
      ]
    },
    {
      "cell_type": "code",
      "metadata": {
        "id": "dq_yz1Lq7LD9",
        "colab_type": "code",
        "outputId": "2e3edf78-d22b-4d39-a891-d5357bb006bd",
        "colab": {
          "base_uri": "https://localhost:8080/",
          "height": 123
        }
      },
      "source": [
        "!pip install -q tensorflow==2.0.0-beta1 tensorflow-gpu==2.0.0-beta1 pydub webrtcvad"
      ],
      "execution_count": 0,
      "outputs": [
        {
          "output_type": "stream",
          "text": [
            "\u001b[K     |████████████████████████████████| 87.9MB 323kB/s \n",
            "\u001b[K     |████████████████████████████████| 348.9MB 56kB/s \n",
            "\u001b[K     |████████████████████████████████| 71kB 21.7MB/s \n",
            "\u001b[K     |████████████████████████████████| 3.1MB 38.6MB/s \n",
            "\u001b[K     |████████████████████████████████| 501kB 42.7MB/s \n",
            "\u001b[?25h  Building wheel for webrtcvad (setup.py) ... \u001b[?25l\u001b[?25hdone\n"
          ],
          "name": "stdout"
        }
      ]
    },
    {
      "cell_type": "markdown",
      "metadata": {
        "id": "86NXJiTpmDqv",
        "colab_type": "text"
      },
      "source": [
        "#### Download code"
      ]
    },
    {
      "cell_type": "code",
      "metadata": {
        "id": "QCAAH_-J3xkM",
        "colab_type": "code",
        "colab": {}
      },
      "source": [
        "!rm -rf SV2MTTS/"
      ],
      "execution_count": 0,
      "outputs": []
    },
    {
      "cell_type": "code",
      "metadata": {
        "id": "Ha3iudcH6IOQ",
        "colab_type": "code",
        "outputId": "115b7590-1096-4c05-89fd-90ea14426b5a",
        "colab": {
          "base_uri": "https://localhost:8080/",
          "height": 141
        }
      },
      "source": [
        "!git clone 'https://github.com/sagar-spkt/SV2MTTS'"
      ],
      "execution_count": 0,
      "outputs": [
        {
          "output_type": "stream",
          "text": [
            "Cloning into 'SV2MTTS'...\n",
            "remote: Enumerating objects: 40, done.\u001b[K\n",
            "remote: Counting objects: 100% (40/40), done.\u001b[K\n",
            "remote: Compressing objects: 100% (30/30), done.\u001b[K\n",
            "remote: Total 158 (delta 24), reused 24 (delta 10), pack-reused 118\u001b[K\n",
            "Receiving objects: 100% (158/158), 50.59 KiB | 582.00 KiB/s, done.\n",
            "Resolving deltas: 100% (96/96), done.\n"
          ],
          "name": "stdout"
        }
      ]
    },
    {
      "cell_type": "code",
      "metadata": {
        "id": "WNX8lPlNYE41",
        "colab_type": "code",
        "outputId": "1b156b3c-8d95-4517-ed78-23c2643d7530",
        "colab": {
          "base_uri": "https://localhost:8080/",
          "height": 35
        }
      },
      "source": [
        "# Go to code directory\n",
        "%cd SV2MTTS/"
      ],
      "execution_count": 0,
      "outputs": [
        {
          "output_type": "stream",
          "text": [
            "/content/SV2MTTS\n"
          ],
          "name": "stdout"
        }
      ]
    },
    {
      "cell_type": "markdown",
      "metadata": {
        "id": "nBB60K0dgGBo",
        "colab_type": "text"
      },
      "source": [
        "#### Import basic library and set log directory and checkpoint variable"
      ]
    },
    {
      "cell_type": "code",
      "metadata": {
        "id": "mjCucxMR5IlF",
        "colab_type": "code",
        "colab": {}
      },
      "source": [
        "import glob\n",
        "import shutil\n",
        "import numpy as np\n",
        "import pandas as pd"
      ],
      "execution_count": 0,
      "outputs": []
    },
    {
      "cell_type": "code",
      "metadata": {
        "id": "5l-pGG6sWwpJ",
        "colab_type": "code",
        "outputId": "3be3c036-40cc-4a50-f28b-b06f88761376",
        "colab": {
          "base_uri": "https://localhost:8080/",
          "height": 35
        }
      },
      "source": [
        "import tensorflow as tf\n",
        "tf.compat.v1.disable_eager_execution()\n",
        "tf.__version__"
      ],
      "execution_count": 0,
      "outputs": [
        {
          "output_type": "execute_result",
          "data": {
            "text/plain": [
              "'2.0.0-beta1'"
            ]
          },
          "metadata": {
            "tags": []
          },
          "execution_count": 9
        }
      ]
    },
    {
      "cell_type": "code",
      "metadata": {
        "id": "-kYECSkjvEQI",
        "colab_type": "code",
        "colab": {}
      },
      "source": [
        "LOG_DIR = '/content/gdrive/My Drive/ML/voice_clone/training_logs/SV2MTTS'\n",
        "MODEL_CHECKPOINT_NAME = 'model{epoch:03d}.hdf5'\n",
        "MODEL_CHECKPOINT_DIRNAME = LOG_DIR + '/checkpoints/'\n",
        "log_dir = './logs'  # Tensorboard\n",
        "!mkdir -p '{MODEL_CHECKPOINT_DIRNAME}'"
      ],
      "execution_count": 0,
      "outputs": []
    },
    {
      "cell_type": "code",
      "metadata": {
        "id": "JZ5w-Z7ugx0E",
        "colab_type": "code",
        "colab": {}
      },
      "source": [
        ""
      ],
      "execution_count": 0,
      "outputs": []
    },
    {
      "cell_type": "markdown",
      "metadata": {
        "id": "hP5V49yig18-",
        "colab_type": "text"
      },
      "source": [
        "#### Tunnel tensorboard from localhost"
      ]
    },
    {
      "cell_type": "code",
      "metadata": {
        "id": "nFmqSAkA62mv",
        "colab_type": "code",
        "outputId": "30e4a780-d6f1-41ef-a18c-07f85e8b4559",
        "colab": {
          "base_uri": "https://localhost:8080/",
          "height": 247
        }
      },
      "source": [
        "!wget https://bin.equinox.io/c/4VmDzA7iaHb/ngrok-stable-linux-amd64.zip\n",
        "!unzip ngrok-stable-linux-amd64.zip"
      ],
      "execution_count": 0,
      "outputs": [
        {
          "output_type": "stream",
          "text": [
            "--2019-08-01 10:39:28--  https://bin.equinox.io/c/4VmDzA7iaHb/ngrok-stable-linux-amd64.zip\n",
            "Resolving bin.equinox.io (bin.equinox.io)... 52.45.111.123, 52.200.123.104, 52.54.237.49, ...\n",
            "Connecting to bin.equinox.io (bin.equinox.io)|52.45.111.123|:443... connected.\n",
            "HTTP request sent, awaiting response... 200 OK\n",
            "Length: 13607069 (13M) [application/octet-stream]\n",
            "Saving to: ‘ngrok-stable-linux-amd64.zip’\n",
            "\n",
            "ngrok-stable-linux- 100%[===================>]  12.98M  13.3MB/s    in 1.0s    \n",
            "\n",
            "2019-08-01 10:39:30 (13.3 MB/s) - ‘ngrok-stable-linux-amd64.zip’ saved [13607069/13607069]\n",
            "\n",
            "Archive:  ngrok-stable-linux-amd64.zip\n",
            "  inflating: ngrok                   \n"
          ],
          "name": "stdout"
        }
      ]
    },
    {
      "cell_type": "code",
      "metadata": {
        "id": "gIIzl1GY66rd",
        "colab_type": "code",
        "colab": {}
      },
      "source": [
        "get_ipython().system_raw(\n",
        "    'tensorboard --logdir {} --host 0.0.0.0 --port 6006 &'\n",
        "    .format(log_dir)\n",
        ")"
      ],
      "execution_count": 0,
      "outputs": []
    },
    {
      "cell_type": "code",
      "metadata": {
        "id": "ZcyLBez3XzXv",
        "colab_type": "code",
        "outputId": "fe8625e3-9eb2-43eb-e513-04ab9bb596c2",
        "colab": {
          "base_uri": "https://localhost:8080/",
          "height": 35
        }
      },
      "source": [
        "get_ipython().system_raw('./ngrok http 6006 &')\n",
        "! curl -s http://localhost:4040/api/tunnels | python3 -c \\\n",
        "    \"import sys, json; print(json.load(sys.stdin)['tunnels'][0]['public_url'])\""
      ],
      "execution_count": 0,
      "outputs": [
        {
          "output_type": "stream",
          "text": [
            "http://9103f818.ngrok.io\n"
          ],
          "name": "stdout"
        }
      ]
    },
    {
      "cell_type": "code",
      "metadata": {
        "id": "xEREMUPXg0Jq",
        "colab_type": "code",
        "colab": {}
      },
      "source": [
        ""
      ],
      "execution_count": 0,
      "outputs": []
    },
    {
      "cell_type": "markdown",
      "metadata": {
        "id": "KkbDcso6hEIU",
        "colab_type": "text"
      },
      "source": [
        "#### Import models, data generator and other utilities"
      ]
    },
    {
      "cell_type": "code",
      "metadata": {
        "id": "mp23rP1F61FY",
        "colab_type": "code",
        "colab": {}
      },
      "source": [
        "from models import get_full_model, get_speaker_embedding_model, get_synthesizer_model, load_saved_model\n",
        "from data_loader import SynthesizerTrainGenerator\n",
        "from training_utils import LearningRateSchedulerPerGlobalStep,lr_schedule_func, get_init_epoch\n",
        "from tensorflow.python.keras.callbacks import TensorBoard, ModelCheckpoint\n",
        "import hparams"
      ],
      "execution_count": 0,
      "outputs": []
    },
    {
      "cell_type": "markdown",
      "metadata": {
        "id": "eyo4g8hDhUX6",
        "colab_type": "text"
      },
      "source": [
        "#### Instantiate generators"
      ]
    },
    {
      "cell_type": "code",
      "metadata": {
        "id": "CRieMMcHLC6f",
        "colab_type": "code",
        "colab": {}
      },
      "source": [
        "train_gen = SynthesizerTrainGenerator('/content/content/LibriNumpied2-train-test-vald/train')\n",
        "val_gen = SynthesizerTrainGenerator('/content/content/LibriNumpied2-train-test-vald/validation', num_buckets=5, shuffle=False)"
      ],
      "execution_count": 0,
      "outputs": []
    },
    {
      "cell_type": "markdown",
      "metadata": {
        "id": "JMB9NB2shjoi",
        "colab_type": "text"
      },
      "source": [
        "#### Restore saved model if one exist in checkpoint directory otherwise create new model"
      ]
    },
    {
      "cell_type": "code",
      "metadata": {
        "id": "VcPE86utvU6G",
        "colab_type": "code",
        "outputId": "54863098-e201-4cde-fefd-c598bdc0399c",
        "colab": {
          "base_uri": "https://localhost:8080/",
          "height": 125
        }
      },
      "source": [
        "init_epoch = get_init_epoch(MODEL_CHECKPOINT_DIRNAME)\n",
        "if init_epoch:\n",
        "    model_path = MODEL_CHECKPOINT_DIRNAME + MODEL_CHECKPOINT_NAME.format(epoch=init_epoch)\n",
        "    model = load_saved_model(model_path)\n",
        "else:\n",
        "    model = get_synthesizer_model()\n",
        "init_epoch"
      ],
      "execution_count": 0,
      "outputs": [
        {
          "output_type": "stream",
          "text": [
            "WARNING: Logging before flag parsing goes to stderr.\n",
            "W0801 10:40:02.816275 140094351148928 deprecation.py:323] From /usr/local/lib/python3.6/dist-packages/tensorflow/python/ops/math_grad.py:1250: add_dispatch_support.<locals>.wrapper (from tensorflow.python.ops.array_ops) is deprecated and will be removed in a future version.\n",
            "Instructions for updating:\n",
            "Use tf.where in 2.0, which has the same broadcast rule as np.where\n"
          ],
          "name": "stderr"
        },
        {
          "output_type": "execute_result",
          "data": {
            "text/plain": [
              "129"
            ]
          },
          "metadata": {
            "tags": []
          },
          "execution_count": 16
        }
      ]
    },
    {
      "cell_type": "markdown",
      "metadata": {
        "id": "AxVIIyh7h0AD",
        "colab_type": "text"
      },
      "source": [
        "#### Callbacks"
      ]
    },
    {
      "cell_type": "code",
      "metadata": {
        "id": "goyiYF4etNKU",
        "colab_type": "code",
        "colab": {}
      },
      "source": [
        "callbacks = [LearningRateSchedulerPerGlobalStep(lr_schedule_func, batches_per_epoch=len(train_gen), initial_epoch=init_epoch),\n",
        "             TensorBoard(log_dir, update_freq='batch'),\n",
        "             ModelCheckpoint(MODEL_CHECKPOINT_DIRNAME + MODEL_CHECKPOINT_NAME)]"
      ],
      "execution_count": 0,
      "outputs": []
    },
    {
      "cell_type": "markdown",
      "metadata": {
        "id": "PdX8mHrhh3VW",
        "colab_type": "text"
      },
      "source": [
        "#### Train"
      ]
    },
    {
      "cell_type": "code",
      "metadata": {
        "id": "ypX3ZYrIc2uQ",
        "colab_type": "code",
        "outputId": "0a14d628-d3f2-47f6-e7f7-db8867c475b4",
        "colab": {
          "base_uri": "https://localhost:8080/",
          "height": 52
        }
      },
      "source": [
        "p = model.fit_generator(train_gen, epochs=500, validation_data=val_gen, callbacks=callbacks, initial_epoch=init_epoch)"
      ],
      "execution_count": 0,
      "outputs": [
        {
          "output_type": "stream",
          "text": [
            "Epoch 130/500\n",
            "  63/1388 [>.............................] - ETA: 2:49:48 - loss: 0.1042 - decoder_loss: 0.0536 - postprocessing_loss: 0.0505"
          ],
          "name": "stdout"
        }
      ]
    },
    {
      "cell_type": "code",
      "metadata": {
        "id": "nc-5eaztfI-6",
        "colab_type": "code",
        "colab": {}
      },
      "source": [
        ""
      ],
      "execution_count": 0,
      "outputs": []
    },
    {
      "cell_type": "code",
      "metadata": {
        "id": "utMGFHGLRHfx",
        "colab_type": "code",
        "colab": {}
      },
      "source": [
        ""
      ],
      "execution_count": 0,
      "outputs": []
    }
  ]
}