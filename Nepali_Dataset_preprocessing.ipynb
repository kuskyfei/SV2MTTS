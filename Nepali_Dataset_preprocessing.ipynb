{
  "nbformat": 4,
  "nbformat_minor": 0,
  "metadata": {
    "colab": {
      "name": "Nepali_Dataset_preprocessing.ipynb",
      "provenance": [],
      "collapsed_sections": []
    },
    "kernelspec": {
      "name": "python3",
      "display_name": "Python 3"
    },
    "accelerator": "GPU"
  },
  "cells": [
    {
      "cell_type": "code",
      "metadata": {
        "id": "EUBnxO9YU5f2",
        "colab_type": "code",
        "colab": {}
      },
      "source": [
        "# Run this cell to mount your Google Drive.\n",
        "from google.colab import drive\n",
        "drive.mount('/content/gdrive', force_remount=True)"
      ],
      "execution_count": 0,
      "outputs": []
    },
    {
      "cell_type": "code",
      "metadata": {
        "id": "1KAeeY-La6xk",
        "colab_type": "code",
        "colab": {}
      },
      "source": [
        "#taken from this StackOverflow answer: https://stackoverflow.com/a/39225039\n",
        "import requests\n",
        "\n",
        "def download_file_from_google_drive(id, destination):\n",
        "    URL = \"https://docs.google.com/uc?export=download\"\n",
        "\n",
        "    session = requests.Session()\n",
        "\n",
        "    response = session.get(URL, params = { 'id' : id }, stream = True)\n",
        "    token = get_confirm_token(response)\n",
        "\n",
        "    if token:\n",
        "        params = { 'id' : id, 'confirm' : token }\n",
        "        response = session.get(URL, params = params, stream = True)\n",
        "\n",
        "    save_response_content(response, destination)    \n",
        "\n",
        "def get_confirm_token(response):\n",
        "    for key, value in response.cookies.items():\n",
        "        if key.startswith('download_warning'):\n",
        "            return value\n",
        "\n",
        "    return None\n",
        "\n",
        "def save_response_content(response, destination):\n",
        "    CHUNK_SIZE = 32768\n",
        "\n",
        "    with open(destination, \"wb\") as f:\n",
        "        for chunk in response.iter_content(CHUNK_SIZE):\n",
        "            if chunk: # filter out keep-alive new chunks\n",
        "                f.write(chunk)"
      ],
      "execution_count": 0,
      "outputs": []
    },
    {
      "cell_type": "code",
      "metadata": {
        "id": "qNPXGR_db59p",
        "colab_type": "code",
        "colab": {}
      },
      "source": [
        "download_file_from_google_drive('1fPAXDnOzMn2B8qJjfEBToi9dP0mbvCNp', 'NP.tar')"
      ],
      "execution_count": 0,
      "outputs": []
    },
    {
      "cell_type": "code",
      "metadata": {
        "id": "Z5yCLtjplaE3",
        "colab_type": "code",
        "colab": {}
      },
      "source": [
        "download_file_from_google_drive('1v0Hq__7Lm8Me5X6YB5J2Fb89HFSze7_a', 'model.hdf5')"
      ],
      "execution_count": 0,
      "outputs": []
    },
    {
      "cell_type": "code",
      "metadata": {
        "id": "c8P1SYSMXfRt",
        "colab_type": "code",
        "colab": {}
      },
      "source": [
        "!tar -xf /content/NP.tar"
      ],
      "execution_count": 0,
      "outputs": []
    },
    {
      "cell_type": "code",
      "metadata": {
        "id": "5fPMQfpHeAhS",
        "colab_type": "code",
        "colab": {}
      },
      "source": [
        "import pandas as pd, glob, os"
      ],
      "execution_count": 0,
      "outputs": []
    },
    {
      "cell_type": "code",
      "metadata": {
        "id": "hRKoHQ3AahqT",
        "colab_type": "code",
        "colab": {}
      },
      "source": [
        "!pip install webrtcvad\n",
        "!pip install pydub"
      ],
      "execution_count": 0,
      "outputs": []
    },
    {
      "cell_type": "code",
      "metadata": {
        "id": "eeTMhxZ-CcHz",
        "colab_type": "code",
        "colab": {}
      },
      "source": [
        "!git clone https://github.com/sagar-spkt/SV2MTTS.git"
      ],
      "execution_count": 0,
      "outputs": []
    },
    {
      "cell_type": "code",
      "metadata": {
        "colab_type": "code",
        "id": "EoZ_ToTkXRMB",
        "colab": {}
      },
      "source": [
        "%cd SV2MTTS/"
      ],
      "execution_count": 0,
      "outputs": []
    },
    {
      "cell_type": "code",
      "metadata": {
        "colab_type": "code",
        "id": "DbSIRCfmXRMH",
        "colab": {}
      },
      "source": [
        "!git checkout nepali"
      ],
      "execution_count": 0,
      "outputs": []
    },
    {
      "cell_type": "code",
      "metadata": {
        "colab_type": "code",
        "id": "NRgZid9RXRMO",
        "colab": {}
      },
      "source": [
        "from preprocess import wav_to_speaker_embeddings"
      ],
      "execution_count": 0,
      "outputs": []
    },
    {
      "cell_type": "code",
      "metadata": {
        "id": "-VMWur6kFloM",
        "colab_type": "code",
        "colab": {}
      },
      "source": [
        "mkdir /content/NepaliASR-SV2MTTS-preprocessed-16syn-16em"
      ],
      "execution_count": 0,
      "outputs": []
    },
    {
      "cell_type": "code",
      "metadata": {
        "colab_type": "code",
        "id": "fna72LjWXRMR",
        "colab": {}
      },
      "source": [
        "wav_to_speaker_embeddings('/content/asr_nepali', '/content/NepaliASR-SV2MTTS-preprocessed-16syn-16em', 'NepaliASR', spk_embed_model_path='/content/model.hdf5')"
      ],
      "execution_count": 0,
      "outputs": []
    },
    {
      "cell_type": "markdown",
      "metadata": {
        "id": "41AY6_enc6o5",
        "colab_type": "text"
      },
      "source": [
        ""
      ]
    },
    {
      "cell_type": "code",
      "metadata": {
        "id": "L1VG9pdapxJx",
        "colab_type": "code",
        "colab": {}
      },
      "source": [
        "import time\n",
        "import os\n",
        "\n",
        "start = time.time()\n",
        "\n",
        "os.system(\"tar -cvf NepaliASR-SV2MTTS-preprocessed-16syn-16em.tar NepaliASR-SV2MTTS-preprocessed-16syn-16em\")\n",
        "\n",
        "end = time.time()\n",
        "print(\"Elapsed time: %s\"%(end - start,))"
      ],
      "execution_count": 0,
      "outputs": []
    },
    {
      "cell_type": "code",
      "metadata": {
        "id": "OVCYLg6xQMad",
        "colab_type": "code",
        "colab": {}
      },
      "source": [
        "!rsync -P 'NepaliASR-SV2MTTS-preprocessed-16syn-16em.tar' '/content/gdrive/My Drive/ML/dataset/'"
      ],
      "execution_count": 0,
      "outputs": []
    }
  ]
}