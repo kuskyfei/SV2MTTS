{
  "nbformat": 4,
  "nbformat_minor": 0,
  "metadata": {
    "colab": {
      "name": "VCTK dataset preprocessing.ipynb",
      "provenance": [],
      "collapsed_sections": []
    },
    "kernelspec": {
      "name": "python3",
      "display_name": "Python 3"
    },
    "accelerator": "GPU"
  },
  "cells": [
    {
      "cell_type": "markdown",
      "metadata": {
        "id": "E37rRvYWpQoE",
        "colab_type": "text"
      },
      "source": [
        "#### Download and extract VCTK dataset from Google Drive"
      ]
    },
    {
      "cell_type": "code",
      "metadata": {
        "id": "p0peK0_dxfnX",
        "colab_type": "code",
        "outputId": "eead99bc-771f-4c42-8c1d-795d1a90688d",
        "colab": {
          "base_uri": "https://localhost:8080/",
          "height": 125
        }
      },
      "source": [
        "from google.colab import drive\n",
        "drive.mount('/content/drive')"
      ],
      "execution_count": 0,
      "outputs": [
        {
          "output_type": "stream",
          "text": [
            "Go to this URL in a browser: https://accounts.google.com/o/oauth2/auth?client_id=947318989803-6bn6qk8qdgf4n4g3pfee6491hc0brc4i.apps.googleusercontent.com&redirect_uri=urn%3Aietf%3Awg%3Aoauth%3A2.0%3Aoob&scope=email%20https%3A%2F%2Fwww.googleapis.com%2Fauth%2Fdocs.test%20https%3A%2F%2Fwww.googleapis.com%2Fauth%2Fdrive%20https%3A%2F%2Fwww.googleapis.com%2Fauth%2Fdrive.photos.readonly%20https%3A%2F%2Fwww.googleapis.com%2Fauth%2Fpeopleapi.readonly&response_type=code\n",
            "\n",
            "Enter your authorization code:\n",
            "··········\n",
            "Mounted at /content/drive\n"
          ],
          "name": "stdout"
        }
      ]
    },
    {
      "cell_type": "code",
      "metadata": {
        "id": "ZS2ww2ND7k53",
        "colab_type": "code",
        "colab": {}
      },
      "source": [
        "#taken from this StackOverflow answer: https://stackoverflow.com/a/39225039\n",
        "import requests\n",
        "\n",
        "def download_file_from_google_drive(id, destination):\n",
        "    URL = \"https://docs.google.com/uc?export=download\"\n",
        "\n",
        "    session = requests.Session()\n",
        "\n",
        "    response = session.get(URL, params = { 'id' : id }, stream = True)\n",
        "    token = get_confirm_token(response)\n",
        "\n",
        "    if token:\n",
        "        params = { 'id' : id, 'confirm' : token }\n",
        "        response = session.get(URL, params = params, stream = True)\n",
        "\n",
        "    save_response_content(response, destination)    \n",
        "\n",
        "def get_confirm_token(response):\n",
        "    for key, value in response.cookies.items():\n",
        "        if key.startswith('download_warning'):\n",
        "            return value\n",
        "\n",
        "    return None\n",
        "\n",
        "def save_response_content(response, destination):\n",
        "    CHUNK_SIZE = 32768\n",
        "\n",
        "    with open(destination, \"wb\") as f:\n",
        "        for chunk in response.iter_content(CHUNK_SIZE):\n",
        "            if chunk: # filter out keep-alive new chunks\n",
        "                f.write(chunk)"
      ],
      "execution_count": 0,
      "outputs": []
    },
    {
      "cell_type": "code",
      "metadata": {
        "id": "wDSMC_RQA1M7",
        "colab_type": "code",
        "colab": {}
      },
      "source": [
        "download_file_from_google_drive('1-1mwn38ifDNO7B_950MsdnM3yyAEYczP', 'VCTK.zip')"
      ],
      "execution_count": 0,
      "outputs": []
    },
    {
      "cell_type": "code",
      "metadata": {
        "id": "mwdbjPNKysS1",
        "colab_type": "code",
        "colab": {}
      },
      "source": [
        "download_file_from_google_drive('10C6xt5wCuIgNp2GxULJISsDGRPZFKCMp', 'model.hdf5')"
      ],
      "execution_count": 0,
      "outputs": []
    },
    {
      "cell_type": "code",
      "metadata": {
        "id": "Folh5cYf-umE",
        "colab_type": "code",
        "colab": {}
      },
      "source": [
        "mkdir '/content/VCTK/'"
      ],
      "execution_count": 0,
      "outputs": []
    },
    {
      "cell_type": "code",
      "metadata": {
        "id": "tZhQe4A5wj2F",
        "colab_type": "code",
        "colab": {}
      },
      "source": [
        "!cd '/content/VCTK/' && unzip -q /content/VCTK.zip"
      ],
      "execution_count": 0,
      "outputs": []
    },
    {
      "cell_type": "markdown",
      "metadata": {
        "id": "ggOuG9mrpZzw",
        "colab_type": "text"
      },
      "source": [
        "#### Install required dependencies and import"
      ]
    },
    {
      "cell_type": "code",
      "metadata": {
        "id": "oyGA6M5nMZTn",
        "colab_type": "code",
        "colab": {}
      },
      "source": [
        "!pip install webrtcvad\n",
        "!pip install pydub\n",
        "import webrtcvad\n",
        "import struct\n",
        "import pandas as pd, glob"
      ],
      "execution_count": 0,
      "outputs": []
    },
    {
      "cell_type": "markdown",
      "metadata": {
        "id": "znML_5zNppR5",
        "colab_type": "text"
      },
      "source": [
        "#### Download code and make directory for preprocessed files"
      ]
    },
    {
      "cell_type": "code",
      "metadata": {
        "id": "QdJAkMmOWg2m",
        "colab_type": "code",
        "colab": {}
      },
      "source": [
        "!git clone https://github.com/sagar-spkt/SV2MTTS.git"
      ],
      "execution_count": 0,
      "outputs": []
    },
    {
      "cell_type": "code",
      "metadata": {
        "colab_type": "code",
        "id": "EoZ_ToTkXRMB",
        "colab": {}
      },
      "source": [
        "%cd SV2MTTS/"
      ],
      "execution_count": 0,
      "outputs": []
    },
    {
      "cell_type": "code",
      "metadata": {
        "colab_type": "code",
        "id": "DbSIRCfmXRMH",
        "colab": {}
      },
      "source": [
        "!git checkout VCTK"
      ],
      "execution_count": 0,
      "outputs": []
    },
    {
      "cell_type": "code",
      "metadata": {
        "id": "VS9AnDToPiYy",
        "colab_type": "code",
        "colab": {}
      },
      "source": [
        "!mkdir /content/VCTK-Num-Embbded"
      ],
      "execution_count": 0,
      "outputs": []
    },
    {
      "cell_type": "markdown",
      "metadata": {
        "id": "kgUypJCSq8oQ",
        "colab_type": "text"
      },
      "source": [
        "### import Preprocessing function"
      ]
    },
    {
      "cell_type": "code",
      "metadata": {
        "colab_type": "code",
        "id": "NRgZid9RXRMO",
        "colab": {}
      },
      "source": [
        "from preprocess import wav_to_speaker_embeddings"
      ],
      "execution_count": 0,
      "outputs": []
    },
    {
      "cell_type": "code",
      "metadata": {
        "colab_type": "code",
        "id": "fna72LjWXRMR",
        "outputId": "6b02da36-5ac6-4faf-fd8d-08eacb96548b",
        "colab": {
          "base_uri": "https://localhost:8080/",
          "height": 125
        }
      },
      "source": [
        "wav_to_speaker_embeddings('/content/VCTK', '/content/VCTK-Num-Embbded', 'VCTK', '/content/model.hdf5')"
      ],
      "execution_count": 0,
      "outputs": [
        {
          "output_type": "stream",
          "text": [
            "WARNING: Logging before flag parsing goes to stderr.\n",
            "W0722 11:34:49.618400 140329872258944 deprecation.py:506] From /usr/local/lib/python3.6/dist-packages/tensorflow/python/ops/init_ops.py:1251: calling VarianceScaling.__init__ (from tensorflow.python.ops.init_ops) with dtype is deprecated and will be removed in a future version.\n",
            "Instructions for updating:\n",
            "Call initializer instance with the dtype argument instead of passing it to the constructor\n",
            "  1%|          | 7/1383 [00:16<54:58,  2.40s/it]"
          ],
          "name": "stderr"
        }
      ]
    },
    {
      "cell_type": "markdown",
      "metadata": {
        "id": "JtdBuPtQAoz3",
        "colab_type": "text"
      },
      "source": [
        "### File Saving to Drive"
      ]
    },
    {
      "cell_type": "code",
      "metadata": {
        "id": "L1VG9pdapxJx",
        "colab_type": "code",
        "colab": {}
      },
      "source": [
        "import time\n",
        "import os\n",
        "\n",
        "start = time.time()\n",
        "\n",
        "os.system(\"tar -cvf VCTK-Num-32-Embbded-16-siltrim-23.tar /content/VCTK-Num-Embbded\")\n",
        "\n",
        "end = time.time()\n",
        "print(\"Elapsed time: %s\"%(end - start,))"
      ],
      "execution_count": 0,
      "outputs": []
    },
    {
      "cell_type": "code",
      "metadata": {
        "id": "OVCYLg6xQMad",
        "colab_type": "code",
        "colab": {}
      },
      "source": [
        "!rsync -P '/content/SV2MTTS/VCTK-Num-32-Embbded-16-siltrim-23.tar' '/content/drive/My Drive/ML/dataset/LibriTTS/'"
      ],
      "execution_count": 0,
      "outputs": []
    }
  ]
}