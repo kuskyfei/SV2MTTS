{
  "nbformat": 4,
  "nbformat_minor": 0,
  "metadata": {
    "colab": {
      "name": "VCTK SV2MTTS Training",
      "provenance": [],
      "collapsed_sections": []
    },
    "kernelspec": {
      "name": "python3",
      "display_name": "Python 3"
    },
    "accelerator": "GPU"
  },
  "cells": [
    {
      "cell_type": "markdown",
      "metadata": {
        "id": "wBmtQj9QkLMw",
        "colab_type": "text"
      },
      "source": [
        "#### Download and extract preprocessed dataset from Google Drive"
      ]
    },
    {
      "cell_type": "code",
      "metadata": {
        "id": "b3npJ6CxRQib",
        "colab_type": "code",
        "outputId": "208cc466-3621-4a41-9dab-2bdd001f5dbf",
        "colab": {
          "base_uri": "https://localhost:8080/",
          "height": 125
        }
      },
      "source": [
        "# Run this cell to mount your Google Drive.\n",
        "from google.colab import drive\n",
        "drive.mount('/content/gdrive')"
      ],
      "execution_count": 0,
      "outputs": [
        {
          "output_type": "stream",
          "text": [
            "Go to this URL in a browser: https://accounts.google.com/o/oauth2/auth?client_id=947318989803-6bn6qk8qdgf4n4g3pfee6491hc0brc4i.apps.googleusercontent.com&redirect_uri=urn%3Aietf%3Awg%3Aoauth%3A2.0%3Aoob&scope=email%20https%3A%2F%2Fwww.googleapis.com%2Fauth%2Fdocs.test%20https%3A%2F%2Fwww.googleapis.com%2Fauth%2Fdrive%20https%3A%2F%2Fwww.googleapis.com%2Fauth%2Fdrive.photos.readonly%20https%3A%2F%2Fwww.googleapis.com%2Fauth%2Fpeopleapi.readonly&response_type=code\n",
            "\n",
            "Enter your authorization code:\n",
            "··········\n",
            "Mounted at /content/gdrive\n"
          ],
          "name": "stdout"
        }
      ]
    },
    {
      "cell_type": "code",
      "metadata": {
        "id": "ncbEb6yf2b6x",
        "colab_type": "code",
        "outputId": "9114d5ca-dc97-4670-e72c-ed5b265cb3f6",
        "colab": {
          "base_uri": "https://localhost:8080/",
          "height": 52
        }
      },
      "source": [
        "%%time\n",
        "!cp '/content/gdrive/My Drive/ML/dataset/VCTK/VCTK-Num-Embbded.zip' ."
      ],
      "execution_count": 0,
      "outputs": [
        {
          "output_type": "stream",
          "text": [
            "CPU times: user 695 ms, sys: 80.6 ms, total: 776 ms\n",
            "Wall time: 2min 6s\n"
          ],
          "name": "stdout"
        }
      ]
    },
    {
      "cell_type": "code",
      "metadata": {
        "id": "hO50Mf_4ReXi",
        "colab_type": "code",
        "outputId": "788fa085-d301-4670-85a9-9f1e3db391b7",
        "colab": {
          "base_uri": "https://localhost:8080/",
          "height": 52
        }
      },
      "source": [
        "%%time\n",
        "!unzip -q '/content/VCTK-Num-Embbded.zip'"
      ],
      "execution_count": 0,
      "outputs": [
        {
          "output_type": "stream",
          "text": [
            "CPU times: user 1.37 s, sys: 151 ms, total: 1.52 s\n",
            "Wall time: 4min 12s\n"
          ],
          "name": "stdout"
        }
      ]
    },
    {
      "cell_type": "markdown",
      "metadata": {
        "id": "HVwbaIoHl5oV",
        "colab_type": "text"
      },
      "source": [
        "#### Install required dependencies"
      ]
    },
    {
      "cell_type": "code",
      "metadata": {
        "id": "dq_yz1Lq7LD9",
        "colab_type": "code",
        "outputId": "a4bd76f4-676c-457e-c2a9-46596f949d3f",
        "colab": {
          "base_uri": "https://localhost:8080/",
          "height": 123
        }
      },
      "source": [
        "!pip install -q tensorflow==2.0.0-beta1 tensorflow-gpu==2.0.0-beta1 pydub webrtcvad"
      ],
      "execution_count": 0,
      "outputs": [
        {
          "output_type": "stream",
          "text": [
            "\u001b[K     |████████████████████████████████| 87.9MB 233kB/s \n",
            "\u001b[K     |████████████████████████████████| 348.9MB 33kB/s \n",
            "\u001b[K     |████████████████████████████████| 71kB 22.6MB/s \n",
            "\u001b[K     |████████████████████████████████| 3.1MB 29.8MB/s \n",
            "\u001b[K     |████████████████████████████████| 501kB 37.5MB/s \n",
            "\u001b[?25h  Building wheel for webrtcvad (setup.py) ... \u001b[?25l\u001b[?25hdone\n"
          ],
          "name": "stdout"
        }
      ]
    },
    {
      "cell_type": "markdown",
      "metadata": {
        "id": "86NXJiTpmDqv",
        "colab_type": "text"
      },
      "source": [
        "#### Download code"
      ]
    },
    {
      "cell_type": "code",
      "metadata": {
        "id": "QCAAH_-J3xkM",
        "colab_type": "code",
        "colab": {}
      },
      "source": [
        "!rm -rf SV2MTTS/"
      ],
      "execution_count": 0,
      "outputs": []
    },
    {
      "cell_type": "code",
      "metadata": {
        "id": "Ha3iudcH6IOQ",
        "colab_type": "code",
        "outputId": "22c21737-426f-457c-b8c6-19a14608976c",
        "colab": {
          "base_uri": "https://localhost:8080/",
          "height": 141
        }
      },
      "source": [
        "!git clone 'https://sagar-spkt:@github.com/sagar-spkt/SV2MTTS.git'"
      ],
      "execution_count": 0,
      "outputs": [
        {
          "output_type": "stream",
          "text": [
            "Cloning into 'SV2MTTS'...\n",
            "remote: Enumerating objects: 32, done.\u001b[K\n",
            "remote: Counting objects:   3% (1/32)   \u001b[K\rremote: Counting objects:   6% (2/32)   \u001b[K\rremote: Counting objects:   9% (3/32)   \u001b[K\rremote: Counting objects:  12% (4/32)   \u001b[K\rremote: Counting objects:  15% (5/32)   \u001b[K\rremote: Counting objects:  18% (6/32)   \u001b[K\rremote: Counting objects:  21% (7/32)   \u001b[K\rremote: Counting objects:  25% (8/32)   \u001b[K\rremote: Counting objects:  28% (9/32)   \u001b[K\rremote: Counting objects:  31% (10/32)   \u001b[K\rremote: Counting objects:  34% (11/32)   \u001b[K\rremote: Counting objects:  37% (12/32)   \u001b[K\rremote: Counting objects:  40% (13/32)   \u001b[K\rremote: Counting objects:  43% (14/32)   \u001b[K\rremote: Counting objects:  46% (15/32)   \u001b[K\rremote: Counting objects:  50% (16/32)   \u001b[K\rremote: Counting objects:  53% (17/32)   \u001b[K\rremote: Counting objects:  56% (18/32)   \u001b[K\rremote: Counting objects:  59% (19/32)   \u001b[K\rremote: Counting objects:  62% (20/32)   \u001b[K\rremote: Counting objects:  65% (21/32)   \u001b[K\rremote: Counting objects:  68% (22/32)   \u001b[K\rremote: Counting objects:  71% (23/32)   \u001b[K\rremote: Counting objects:  75% (24/32)   \u001b[K\rremote: Counting objects:  78% (25/32)   \u001b[K\rremote: Counting objects:  81% (26/32)   \u001b[K\rremote: Counting objects:  84% (27/32)   \u001b[K\rremote: Counting objects:  87% (28/32)   \u001b[K\rremote: Counting objects:  90% (29/32)   \u001b[K\rremote: Counting objects:  93% (30/32)   \u001b[K\rremote: Counting objects:  96% (31/32)   \u001b[K\rremote: Counting objects: 100% (32/32)   \u001b[K\rremote: Counting objects: 100% (32/32), done.\u001b[K\n",
            "remote: Compressing objects:   4% (1/23)   \u001b[K\rremote: Compressing objects:   8% (2/23)   \u001b[K\rremote: Compressing objects:  13% (3/23)   \u001b[K\rremote: Compressing objects:  17% (4/23)   \u001b[K\rremote: Compressing objects:  21% (5/23)   \u001b[K\rremote: Compressing objects:  26% (6/23)   \u001b[K\rremote: Compressing objects:  30% (7/23)   \u001b[K\rremote: Compressing objects:  34% (8/23)   \u001b[K\rremote: Compressing objects:  39% (9/23)   \u001b[K\rremote: Compressing objects:  43% (10/23)   \u001b[K\rremote: Compressing objects:  47% (11/23)   \u001b[K\rremote: Compressing objects:  52% (12/23)   \u001b[K\rremote: Compressing objects:  56% (13/23)   \u001b[K\rremote: Compressing objects:  60% (14/23)   \u001b[K\rremote: Compressing objects:  65% (15/23)   \u001b[K\rremote: Compressing objects:  69% (16/23)   \u001b[K\rremote: Compressing objects:  73% (17/23)   \u001b[K\rremote: Compressing objects:  78% (18/23)   \u001b[K\rremote: Compressing objects:  82% (19/23)   \u001b[K\rremote: Compressing objects:  86% (20/23)   \u001b[K\rremote: Compressing objects:  91% (21/23)   \u001b[K\rremote: Compressing objects:  95% (22/23)   \u001b[K\rremote: Compressing objects: 100% (23/23)   \u001b[K\rremote: Compressing objects: 100% (23/23), done.\u001b[K\n",
            "Receiving objects:   0% (1/150)   \rReceiving objects:   1% (2/150)   \rReceiving objects:   2% (3/150)   \rReceiving objects:   3% (5/150)   \rReceiving objects:   4% (6/150)   \rReceiving objects:   5% (8/150)   \rReceiving objects:   6% (9/150)   \rReceiving objects:   7% (11/150)   \rReceiving objects:   8% (12/150)   \rReceiving objects:   9% (14/150)   \rReceiving objects:  10% (15/150)   \rReceiving objects:  11% (17/150)   \rReceiving objects:  12% (18/150)   \rReceiving objects:  13% (20/150)   \rReceiving objects:  14% (21/150)   \rReceiving objects:  15% (23/150)   \rReceiving objects:  16% (24/150)   \rReceiving objects:  17% (26/150)   \rReceiving objects:  18% (27/150)   \rReceiving objects:  19% (29/150)   \rReceiving objects:  20% (30/150)   \rReceiving objects:  21% (32/150)   \rReceiving objects:  22% (33/150)   \rReceiving objects:  23% (35/150)   \rReceiving objects:  24% (36/150)   \rReceiving objects:  25% (38/150)   \rReceiving objects:  26% (39/150)   \rReceiving objects:  27% (41/150)   \rReceiving objects:  28% (42/150)   \rReceiving objects:  29% (44/150)   \rReceiving objects:  30% (45/150)   \rReceiving objects:  31% (47/150)   \rReceiving objects:  32% (48/150)   \rReceiving objects:  33% (50/150)   \rReceiving objects:  34% (51/150)   \rReceiving objects:  35% (53/150)   \rReceiving objects:  36% (54/150)   \rReceiving objects:  37% (56/150)   \rReceiving objects:  38% (57/150)   \rReceiving objects:  39% (59/150)   \rReceiving objects:  40% (60/150)   \rReceiving objects:  41% (62/150)   \rReceiving objects:  42% (63/150)   \rReceiving objects:  43% (65/150)   \rReceiving objects:  44% (66/150)   \rReceiving objects:  45% (68/150)   \rReceiving objects:  46% (69/150)   \rReceiving objects:  47% (71/150)   \rReceiving objects:  48% (72/150)   \rReceiving objects:  49% (74/150)   \rReceiving objects:  50% (75/150)   \rReceiving objects:  51% (77/150)   \rReceiving objects:  52% (78/150)   \rReceiving objects:  53% (80/150)   \rReceiving objects:  54% (81/150)   \rReceiving objects:  55% (83/150)   \rReceiving objects:  56% (84/150)   \rReceiving objects:  57% (86/150)   \rReceiving objects:  58% (87/150)   \rReceiving objects:  59% (89/150)   \rReceiving objects:  60% (90/150)   \rReceiving objects:  61% (92/150)   \rReceiving objects:  62% (93/150)   \rReceiving objects:  63% (95/150)   \rReceiving objects:  64% (96/150)   \rReceiving objects:  65% (98/150)   \rReceiving objects:  66% (99/150)   \rReceiving objects:  67% (101/150)   \rReceiving objects:  68% (102/150)   \rReceiving objects:  69% (104/150)   \rReceiving objects:  70% (105/150)   \rReceiving objects:  71% (107/150)   \rReceiving objects:  72% (108/150)   \rReceiving objects:  73% (110/150)   \rReceiving objects:  74% (111/150)   \rReceiving objects:  75% (113/150)   \rReceiving objects:  76% (114/150)   \rReceiving objects:  77% (116/150)   \rReceiving objects:  78% (117/150)   \rReceiving objects:  79% (119/150)   \rReceiving objects:  80% (120/150)   \rReceiving objects:  81% (122/150)   \rReceiving objects:  82% (123/150)   \rReceiving objects:  83% (125/150)   \rReceiving objects:  84% (126/150)   \rReceiving objects:  85% (128/150)   \rReceiving objects:  86% (129/150)   \rremote: Total 150 (delta 20), reused 19 (delta 9), pack-reused 118\u001b[K\n",
            "Receiving objects:  87% (131/150)   \rReceiving objects:  88% (132/150)   \rReceiving objects:  89% (134/150)   \rReceiving objects:  90% (135/150)   \rReceiving objects:  91% (137/150)   \rReceiving objects:  92% (138/150)   \rReceiving objects:  93% (140/150)   \rReceiving objects:  94% (141/150)   \rReceiving objects:  95% (143/150)   \rReceiving objects:  96% (144/150)   \rReceiving objects:  97% (146/150)   \rReceiving objects:  98% (147/150)   \rReceiving objects:  99% (149/150)   \rReceiving objects: 100% (150/150)   \rReceiving objects: 100% (150/150), 48.19 KiB | 6.02 MiB/s, done.\n",
            "Resolving deltas:   0% (0/92)   \rResolving deltas:   1% (1/92)   \rResolving deltas:   4% (4/92)   \rResolving deltas:  15% (14/92)   \rResolving deltas:  28% (26/92)   \rResolving deltas:  42% (39/92)   \rResolving deltas:  48% (45/92)   \rResolving deltas:  51% (47/92)   \rResolving deltas:  52% (48/92)   \rResolving deltas:  58% (54/92)   \rResolving deltas:  61% (57/92)   \rResolving deltas:  65% (60/92)   \rResolving deltas:  67% (62/92)   \rResolving deltas:  72% (67/92)   \rResolving deltas:  75% (69/92)   \rResolving deltas:  77% (71/92)   \rResolving deltas:  84% (78/92)   \rResolving deltas:  86% (80/92)   \rResolving deltas:  95% (88/92)   \rResolving deltas:  98% (91/92)   \rResolving deltas: 100% (92/92)   \rResolving deltas: 100% (92/92), done.\n"
          ],
          "name": "stdout"
        }
      ]
    },
    {
      "cell_type": "code",
      "metadata": {
        "id": "WNX8lPlNYE41",
        "colab_type": "code",
        "outputId": "6a1be593-9d5e-4e81-8836-43afafa1ba33",
        "colab": {
          "base_uri": "https://localhost:8080/",
          "height": 35
        }
      },
      "source": [
        "%cd SV2MTTS/"
      ],
      "execution_count": 0,
      "outputs": [
        {
          "output_type": "stream",
          "text": [
            "/content/SV2MTTS\n"
          ],
          "name": "stdout"
        }
      ]
    },
    {
      "cell_type": "code",
      "metadata": {
        "id": "lZbLkZpT1z5E",
        "colab_type": "code",
        "outputId": "0dda28d0-b09b-4c5b-a2cc-17cd121213df",
        "colab": {
          "base_uri": "https://localhost:8080/",
          "height": 52
        }
      },
      "source": [
        "!git checkout VCTK"
      ],
      "execution_count": 0,
      "outputs": [
        {
          "output_type": "stream",
          "text": [
            "Branch 'VCTK' set up to track remote branch 'VCTK' from 'origin'.\n",
            "Switched to a new branch 'VCTK'\n"
          ],
          "name": "stdout"
        }
      ]
    },
    {
      "cell_type": "markdown",
      "metadata": {
        "id": "nBB60K0dgGBo",
        "colab_type": "text"
      },
      "source": [
        "#### Import basic library and set log directory and checkpoint variable"
      ]
    },
    {
      "cell_type": "code",
      "metadata": {
        "id": "mjCucxMR5IlF",
        "colab_type": "code",
        "colab": {}
      },
      "source": [
        "import glob\n",
        "import shutil\n",
        "import numpy as np\n",
        "import pandas as pd"
      ],
      "execution_count": 0,
      "outputs": []
    },
    {
      "cell_type": "code",
      "metadata": {
        "id": "5l-pGG6sWwpJ",
        "colab_type": "code",
        "outputId": "f1a8f7d7-d96c-4b9e-a53e-83dfc450dddc",
        "colab": {
          "base_uri": "https://localhost:8080/",
          "height": 35
        }
      },
      "source": [
        "import tensorflow as tf\n",
        "tf.compat.v1.disable_eager_execution()\n",
        "tf.__version__"
      ],
      "execution_count": 0,
      "outputs": [
        {
          "output_type": "execute_result",
          "data": {
            "text/plain": [
              "'2.0.0-beta1'"
            ]
          },
          "metadata": {
            "tags": []
          },
          "execution_count": 10
        }
      ]
    },
    {
      "cell_type": "code",
      "metadata": {
        "id": "-kYECSkjvEQI",
        "colab_type": "code",
        "colab": {}
      },
      "source": [
        "LOG_DIR = '/content/gdrive/My Drive/ML/voice_clone/training_logs/SV2MTTS-VCTK'\n",
        "MODEL_CHECKPOINT_NAME = 'model{epoch:03d}.hdf5'\n",
        "MODEL_CHECKPOINT_DIRNAME = LOG_DIR + '/checkpoints/'\n",
        "log_dir = './logs'  # Tensorboard\n",
        "!mkdir -p '{MODEL_CHECKPOINT_DIRNAME}'"
      ],
      "execution_count": 0,
      "outputs": []
    },
    {
      "cell_type": "code",
      "metadata": {
        "id": "JZ5w-Z7ugx0E",
        "colab_type": "code",
        "colab": {}
      },
      "source": [
        ""
      ],
      "execution_count": 0,
      "outputs": []
    },
    {
      "cell_type": "markdown",
      "metadata": {
        "id": "hP5V49yig18-",
        "colab_type": "text"
      },
      "source": [
        "#### Tunnel tensorboard from localhost"
      ]
    },
    {
      "cell_type": "code",
      "metadata": {
        "id": "nFmqSAkA62mv",
        "colab_type": "code",
        "outputId": "3b5a04c5-afd3-4eb3-a40e-26dfe4a14c13",
        "colab": {
          "base_uri": "https://localhost:8080/",
          "height": 247
        }
      },
      "source": [
        "!wget https://bin.equinox.io/c/4VmDzA7iaHb/ngrok-stable-linux-amd64.zip\n",
        "!unzip ngrok-stable-linux-amd64.zip"
      ],
      "execution_count": 0,
      "outputs": [
        {
          "output_type": "stream",
          "text": [
            "--2019-07-26 02:00:36--  https://bin.equinox.io/c/4VmDzA7iaHb/ngrok-stable-linux-amd64.zip\n",
            "Resolving bin.equinox.io (bin.equinox.io)... 34.231.75.48, 54.152.127.232, 52.55.191.55, ...\n",
            "Connecting to bin.equinox.io (bin.equinox.io)|34.231.75.48|:443... connected.\n",
            "HTTP request sent, awaiting response... 200 OK\n",
            "Length: 13607069 (13M) [application/octet-stream]\n",
            "Saving to: ‘ngrok-stable-linux-amd64.zip’\n",
            "\n",
            "\r          ngrok-sta   0%[                    ]       0  --.-KB/s               \rngrok-stable-linux- 100%[===================>]  12.98M  68.7MB/s    in 0.2s    \n",
            "\n",
            "2019-07-26 02:00:36 (68.7 MB/s) - ‘ngrok-stable-linux-amd64.zip’ saved [13607069/13607069]\n",
            "\n",
            "Archive:  ngrok-stable-linux-amd64.zip\n",
            "  inflating: ngrok                   \n"
          ],
          "name": "stdout"
        }
      ]
    },
    {
      "cell_type": "code",
      "metadata": {
        "id": "gIIzl1GY66rd",
        "colab_type": "code",
        "colab": {}
      },
      "source": [
        "get_ipython().system_raw(\n",
        "    'tensorboard --logdir {} --host 0.0.0.0 --port 6006 &'\n",
        "    .format(log_dir)\n",
        ")"
      ],
      "execution_count": 0,
      "outputs": []
    },
    {
      "cell_type": "code",
      "metadata": {
        "id": "ZcyLBez3XzXv",
        "colab_type": "code",
        "outputId": "c8a01e7a-a2d0-41ce-a9c0-c9f8dbb1ec66",
        "colab": {
          "base_uri": "https://localhost:8080/",
          "height": 35
        }
      },
      "source": [
        "get_ipython().system_raw('./ngrok authtoken 772yFAui6ynH9AYx29HHS_5Xcr88pHtPTQLwewv7Ctk &')\n",
        "get_ipython().system_raw('./ngrok http 6006 &')\n",
        "! curl -s http://localhost:4040/api/tunnels | python3 -c \\\n",
        "    \"import sys, json; print(json.load(sys.stdin)['tunnels'][0]['public_url'])\""
      ],
      "execution_count": 0,
      "outputs": [
        {
          "output_type": "stream",
          "text": [
            "http://7732ec4c.ngrok.io\n"
          ],
          "name": "stdout"
        }
      ]
    },
    {
      "cell_type": "code",
      "metadata": {
        "id": "xEREMUPXg0Jq",
        "colab_type": "code",
        "colab": {}
      },
      "source": [
        ""
      ],
      "execution_count": 0,
      "outputs": []
    },
    {
      "cell_type": "markdown",
      "metadata": {
        "id": "KkbDcso6hEIU",
        "colab_type": "text"
      },
      "source": [
        "#### Import models, data generator and other utilities"
      ]
    },
    {
      "cell_type": "code",
      "metadata": {
        "id": "mp23rP1F61FY",
        "colab_type": "code",
        "colab": {}
      },
      "source": [
        "from models import get_full_model, get_speaker_embedding_model, get_synthesizer_model, load_saved_model\n",
        "from data_loader import SynthesizerTrainGenerator\n",
        "from training_utils import LearningRateSchedulerPerGlobalStep,lr_schedule_func, get_init_epoch\n",
        "from tensorflow.python.keras.callbacks import TensorBoard, ModelCheckpoint\n",
        "import hparams"
      ],
      "execution_count": 0,
      "outputs": []
    },
    {
      "cell_type": "markdown",
      "metadata": {
        "id": "eyo4g8hDhUX6",
        "colab_type": "text"
      },
      "source": [
        "#### Instantiate generators"
      ]
    },
    {
      "cell_type": "code",
      "metadata": {
        "id": "CRieMMcHLC6f",
        "colab_type": "code",
        "colab": {}
      },
      "source": [
        "train_gen = SynthesizerTrainGenerator('/content/VCTK-Num-Embbded/train')\n",
        "val_gen = SynthesizerTrainGenerator('/content/VCTK-Num-Embbded/validation', num_buckets=5, shuffle=False)"
      ],
      "execution_count": 0,
      "outputs": []
    },
    {
      "cell_type": "markdown",
      "metadata": {
        "id": "JMB9NB2shjoi",
        "colab_type": "text"
      },
      "source": [
        "#### Restore saved model if one exist in checkpoint directory otherwise create new model"
      ]
    },
    {
      "cell_type": "code",
      "metadata": {
        "id": "VcPE86utvU6G",
        "colab_type": "code",
        "outputId": "530380e1-a937-4e2b-d35c-994f583b2a57",
        "colab": {
          "base_uri": "https://localhost:8080/",
          "height": 125
        }
      },
      "source": [
        "init_epoch = get_init_epoch(MODEL_CHECKPOINT_DIRNAME)\n",
        "if init_epoch:\n",
        "    model_path = MODEL_CHECKPOINT_DIRNAME + MODEL_CHECKPOINT_NAME.format(epoch=init_epoch)\n",
        "    model = load_saved_model(model_path)\n",
        "else:\n",
        "    model = get_synthesizer_model()\n",
        "init_epoch"
      ],
      "execution_count": 0,
      "outputs": [
        {
          "output_type": "stream",
          "text": [
            "WARNING: Logging before flag parsing goes to stderr.\n",
            "W0726 02:01:07.200911 139947351349120 deprecation.py:323] From /usr/local/lib/python3.6/dist-packages/tensorflow/python/ops/math_grad.py:1250: add_dispatch_support.<locals>.wrapper (from tensorflow.python.ops.array_ops) is deprecated and will be removed in a future version.\n",
            "Instructions for updating:\n",
            "Use tf.where in 2.0, which has the same broadcast rule as np.where\n"
          ],
          "name": "stderr"
        },
        {
          "output_type": "execute_result",
          "data": {
            "text/plain": [
              "132"
            ]
          },
          "metadata": {
            "tags": []
          },
          "execution_count": 17
        }
      ]
    },
    {
      "cell_type": "markdown",
      "metadata": {
        "id": "AxVIIyh7h0AD",
        "colab_type": "text"
      },
      "source": [
        "#### Callbacks"
      ]
    },
    {
      "cell_type": "code",
      "metadata": {
        "id": "goyiYF4etNKU",
        "colab_type": "code",
        "colab": {}
      },
      "source": [
        "callbacks = [LearningRateSchedulerPerGlobalStep(lr_schedule_func, batches_per_epoch=len(train_gen), initial_epoch=init_epoch),\n",
        "             TensorBoard(log_dir, update_freq='batch'),\n",
        "             ModelCheckpoint(MODEL_CHECKPOINT_DIRNAME + MODEL_CHECKPOINT_NAME)]"
      ],
      "execution_count": 0,
      "outputs": []
    },
    {
      "cell_type": "markdown",
      "metadata": {
        "id": "PdX8mHrhh3VW",
        "colab_type": "text"
      },
      "source": [
        "#### Train"
      ]
    },
    {
      "cell_type": "code",
      "metadata": {
        "id": "ypX3ZYrIc2uQ",
        "colab_type": "code",
        "outputId": "bf8f1a25-102c-444f-d05b-bcd1256a48cc",
        "colab": {
          "base_uri": "https://localhost:8080/",
          "height": 108
        }
      },
      "source": [
        "p = model.fit_generator(train_gen, epochs=500, validation_data=val_gen, callbacks=callbacks, initial_epoch=init_epoch)"
      ],
      "execution_count": 0,
      "outputs": [
        {
          "output_type": "stream",
          "text": [
            "Epoch 133/500\n",
            "1201/1201 [==============================] - 3118s 3s/step - loss: 0.0828 - decoder_loss: 0.0401 - postprocessing_loss: 0.0427 - val_loss: 0.2469 - val_decoder_loss: 0.1139 - val_postprocessing_loss: 0.1331\n",
            "Epoch 134/500\n",
            " 237/1201 [====>.........................] - ETA: 36:50 - loss: 0.0826 - decoder_loss: 0.0399 - postprocessing_loss: 0.0426"
          ],
          "name": "stdout"
        }
      ]
    },
    {
      "cell_type": "code",
      "metadata": {
        "id": "HNW1M0DYeiUz",
        "colab_type": "code",
        "colab": {}
      },
      "source": [
        "95,101, 107, 114, 123, 125"
      ],
      "execution_count": 0,
      "outputs": []
    }
  ]
}